{
 "cells": [
  {
   "cell_type": "code",
   "execution_count": 2,
   "metadata": {},
   "outputs": [
    {
     "name": "stdout",
     "output_type": "stream",
     "text": [
      "Populating the interactive namespace from numpy and matplotlib\n"
     ]
    }
   ],
   "source": [
    "%pylab inline\n",
    "import pandas as pd\n",
    "import emcee\n",
    "import time\n",
    "import os\n",
    "import sys\n",
    "import corner\n",
    "from astropy.constants import au,h,pc,c\n",
    "import glob\n",
    "import pickle\n",
    "import pdb as pdb\n",
    "from slabspec import *\n",
    "from flux_calculator import *\n",
    "from slab_fitter import * \n",
    "#from slab_fitter_clean import *\n",
    "from scipy.optimize import minimize\n",
    "import random\n",
    "from mcmc import rot_mcmc, loglikelihood\n",
    "from helpers import *\n",
    "from astropy.table import table"
   ]
  },
  {
   "cell_type": "markdown",
   "metadata": {},
   "source": [
    "## Running on synthetic data set"
   ]
  },
  {
   "cell_type": "code",
   "execution_count": null,
   "metadata": {
    "scrolled": false
   },
   "outputs": [],
   "source": [
    "def sangle_to_area(omega, distance):\n",
    "    return omega*(distance*3.1e16)**2\n",
    "\n",
    "\n",
    "distance=140\n",
    "\n",
    "\n",
    "result = np.array([0.,0.,0.,0.,0.,0.,0.,0.,0.,0.])\n",
    "\n",
    "# Set random variables\n",
    "logn = np.random.random()*4+20\n",
    "temp = np.random.normal(750, 100)\n",
    "logomega = np.random.random()*9-21\n",
    "\n",
    "result[0] = round(logn,4)\n",
    "result[1] = round(temp,4)\n",
    "result[2] = round(logomega,4)\n",
    "result[9] = round(distance,4)\n",
    "\n",
    "\n",
    "params = np.array([logn, temp, logomega, distance])\n",
    "\n",
    "# Make spectrum\n",
    "spec = make_spec('CO', 10**params[0], params[1], sangle_to_area(10**params[2], params[3]), \n",
    "                 wmin=4.7, wmax=5.01, isotopologue_number = 1, d_pc=distance)\n",
    "spec2 = make_spec('CH4', 10**params[0], params[1], sangle_to_area(10**params[2], params[3]), \n",
    "             wmin=4.7, wmax=5.01, isotopologue_number = 1, d_pc=distance)\n",
    "\n",
    "p = spec['lineparams'].to_pandas()\n",
    "synthdata = p# Table.from_pandas(p.append(spec2['lineparams'].to_pandas()))\n",
    "synthdata['Qpp_HITRAN'] = synthdata['Qpp']\n",
    "synthdata['Qp_HITRAN'] = synthdata['Qp']\n",
    "synthdata['Vp_HITRAN'] = synthdata['Vp']\n",
    "synthdata['Vpp_HITRAN'] = synthdata['Vpp']\n",
    "\n",
    "\n",
    "#Adding error to lineflux measures\n",
    "\n",
    "mean_lineflux = mean(synthdata['lineflux'])\n",
    "\n",
    "errorpercent = 0.1\n",
    "\n",
    "sigma = np.random.normal(errorpercent, errorpercent*0.3, len(synthdata))*mean_lineflux\n",
    "\n",
    "synthdata['lineflux'] += sigma\n",
    "synthdata['lineflux_err'] = np.zeros(len(synthdata['lineflux']))+errorpercent*mean_lineflux\n",
    "\n",
    "\n",
    "start_time=time.time()\n",
    "postsamples = rot_mcmc(synthdata, plot=False)\n",
    "end_time=time.time()\n",
    "\n",
    "fig = corner.corner(postsamples, labels=[ r\"$\\log(n_\\mathrm{tot}$ $[m^{-2}])$\",r\"Temperature [K]\", \"$log(\\Omega [])$\"], truths=[params[0], params[1], params[2]])\n",
    "\n",
    "\n",
    "fig.text(.7,0.9,'logn = '+str(round(params[0],1)),fontsize=18)\n",
    "fig.text(.7,0.8,'temp = '+str(round(params[1],1)),fontsize=18)\n",
    "fig.text(.7,0.7,'logomega = '+str(round(params[2],1)),fontsize=18)\n",
    "fig.text(.7,0.6,'dist = '+str(round(params[3],1))+'pc',fontsize=18)\n",
    "\n",
    "print(end_time-start_time)\n",
    "\n",
    "# 70000 - 1060s input size = 91 emission lines (all CO (isot=1) emission lines)\n",
    "# 70000 - 2000s input size = 165 emission lines (all CO (isot=1) + CH4 (isot=1) emission lines)\n",
    "# 18750 - 360s input size = 165 emission lines (all CO (isot=1) + CH4 (isot=1) emission lines)\n",
    "\n",
    "#synthdata\n",
    "\n"
   ]
  },
  {
   "cell_type": "code",
   "execution_count": 4,
   "metadata": {},
   "outputs": [
    {
     "data": {
      "text/html": [
       "<i>Table length=91</i>\n",
       "<table id=\"table112250421200\" class=\"table-striped table-bordered table-condensed\">\n",
       "<thead><tr><th>molec_id</th><th>local_iso_id</th><th>wn</th><th>sw</th><th>a</th><th>gamma_air</th><th>gamma_self</th><th>elower</th><th>n_air</th><th>delta_air</th><th>Vp</th><th>Vpp</th><th>Qp</th><th>Qpp</th><th>ierr1</th><th>ierr2</th><th>ierr3</th><th>ierr4</th><th>ierr5</th><th>ierr6</th><th>iref1</th><th>iref2</th><th>iref3</th><th>iref4</th><th>iref5</th><th>iref6</th><th>line_mixing_flag</th><th>gp</th><th>gpp</th><th>nu</th><th>eup_k</th><th>wave</th><th>lineflux</th><th>tau_peak</th><th>fthin</th><th>Qpp_HITRAN</th><th>Qp_HITRAN</th><th>Vp_HITRAN</th><th>Vpp_HITRAN</th><th>lineflux_err</th></tr></thead>\n",
       "<thead><tr><th>int32</th><th>int32</th><th>float32</th><th>float32</th><th>float32</th><th>float32</th><th>float32</th><th>float32</th><th>float32</th><th>float32</th><th>bytes15</th><th>bytes15</th><th>bytes15</th><th>bytes15</th><th>int32</th><th>int32</th><th>int32</th><th>int32</th><th>int32</th><th>int32</th><th>int32</th><th>int32</th><th>int32</th><th>int32</th><th>int32</th><th>int32</th><th>bytes1</th><th>float32</th><th>float32</th><th>float32</th><th>float32</th><th>float32</th><th>float64</th><th>float32</th><th>float32</th><th>bytes15</th><th>bytes15</th><th>bytes15</th><th>bytes15</th><th>float64</th></tr></thead>\n",
       "<tr><td>5</td><td>1</td><td>1997.4153</td><td>8.167e-26</td><td>29.38</td><td>0.0451</td><td>0.046</td><td>3686.1199</td><td>0.67</td><td>-0.0035</td><td>2</td><td>1</td><td></td><td>P 28</td><td>4</td><td>7</td><td>6</td><td>6</td><td>2</td><td>3</td><td>5</td><td>8</td><td>2</td><td>2</td><td>1</td><td>1</td><td></td><td>55.0</td><td>57.0</td><td>59881004000000.0</td><td>8177.3384</td><td>5.00647</td><td>5.141803667641809e-18</td><td>1.959888</td><td>8.5483574e-18</td><td>P 28</td><td></td><td>2</td><td>1</td><td>6.131221865005628e-19</td></tr>\n",
       "<tr><td>5</td><td>1</td><td>1998.7802</td><td>8.466e-23</td><td>14.71</td><td>0.0425</td><td>0.041</td><td>2149.38</td><td>0.67</td><td>-0.0035</td><td>1</td><td>0</td><td></td><td>P 33</td><td>4</td><td>7</td><td>6</td><td>6</td><td>2</td><td>3</td><td>5</td><td>8</td><td>2</td><td>2</td><td>1</td><td>1</td><td></td><td>65.0</td><td>67.0</td><td>59921924000000.0</td><td>5968.276</td><td>5.0030513</td><td>9.791647333197536e-18</td><td>22.182648</td><td>9.6758076e-17</td><td>P 33</td><td></td><td>1</td><td>0</td><td>6.131221865005628e-19</td></tr>\n",
       "<tr><td>5</td><td>1</td><td>1999.5012</td><td>5.73e-29</td><td>44.31</td><td>0.0491</td><td>0.053</td><td>5213.583</td><td>0.67</td><td>-0.002385</td><td>3</td><td>2</td><td></td><td>P 22</td><td>4</td><td>6</td><td>7</td><td>6</td><td>6</td><td>5</td><td>5</td><td>8</td><td>2</td><td>2</td><td>1</td><td>7</td><td></td><td>43.0</td><td>45.0</td><td>59943540000000.0</td><td>10378.017</td><td>5.0012474</td><td>8.209577180238325e-19</td><td>0.12236936</td><td>5.3377453e-19</td><td>P 22</td><td></td><td>3</td><td>2</td><td>6.131221865005628e-19</td></tr>\n",
       "<tr><td>5</td><td>1</td><td>2002.115</td><td>1.322e-25</td><td>29.6</td><td>0.0457</td><td>0.047</td><td>3579.975</td><td>0.67</td><td>-0.0035</td><td>2</td><td>1</td><td></td><td>P 27</td><td>4</td><td>7</td><td>6</td><td>6</td><td>2</td><td>3</td><td>5</td><td>8</td><td>2</td><td>2</td><td>1</td><td>1</td><td></td><td>53.0</td><td>55.0</td><td>60021900000000.0</td><td>8031.3813</td><td>4.994718</td><td>6.204818308129885e-18</td><td>2.3173673</td><td>1.0109286e-17</td><td>P 27</td><td></td><td>2</td><td>1</td><td>6.131221865005628e-19</td></tr>\n",
       "<tr><td>5</td><td>1</td><td>2003.668</td><td>1.518e-22</td><td>14.82</td><td>0.043</td><td>0.042</td><td>2023.3715</td><td>0.67</td><td>-0.0035</td><td>1</td><td>0</td><td></td><td>P 32</td><td>4</td><td>7</td><td>6</td><td>6</td><td>2</td><td>3</td><td>5</td><td>8</td><td>2</td><td>2</td><td>1</td><td>1</td><td></td><td>63.0</td><td>65.0</td><td>60068456000000.0</td><td>5794.0107</td><td>4.9908466</td><td>1.0067895717336293e-17</td><td>27.399784</td><td>1.1953498e-16</td><td>P 32</td><td></td><td>1</td><td>0</td><td>6.131221865005628e-19</td></tr>\n",
       "<tr><td>5</td><td>1</td><td>2003.9773</td><td>8.196e-29</td><td>44.65</td><td>0.05</td><td>0.054</td><td>5130.7925</td><td>0.67</td><td>-0.003217</td><td>3</td><td>2</td><td></td><td>P 21</td><td>4</td><td>6</td><td>7</td><td>6</td><td>6</td><td>5</td><td>5</td><td>8</td><td>2</td><td>2</td><td>1</td><td>7</td><td></td><td>41.0</td><td>43.0</td><td>60077730000000.0</td><td>10265.342</td><td>4.9900765</td><td>1.2328285025361553e-18</td><td>0.13695289</td><td>5.974811e-19</td><td>P 21</td><td></td><td>3</td><td>2</td><td>6.131221865005628e-19</td></tr>\n",
       "<tr><td>5</td><td>1</td><td>2006.7836</td><td>2.098e-25</td><td>29.82</td><td>0.0464</td><td>0.048</td><td>3477.5852</td><td>0.67</td><td>-0.0035</td><td>2</td><td>1</td><td></td><td>P 26</td><td>4</td><td>7</td><td>7</td><td>6</td><td>2</td><td>3</td><td>5</td><td>8</td><td>2</td><td>2</td><td>1</td><td>1</td><td></td><td>51.0</td><td>53.0</td><td>60161860000000.0</td><td>7890.7817</td><td>4.9830985</td><td>6.145921496261069e-18</td><td>2.716488</td><td>1.1852185e-17</td><td>P 26</td><td></td><td>2</td><td>1</td><td>6.131221865005628e-19</td></tr>\n",
       "<tr><td>5</td><td>1</td><td>2008.4215</td><td>1.149e-28</td><td>44.99</td><td>0.051</td><td>0.055</td><td>5051.743</td><td>0.67</td><td>-0.002867</td><td>3</td><td>2</td><td></td><td>P 20</td><td>4</td><td>6</td><td>7</td><td>6</td><td>6</td><td>5</td><td>5</td><td>8</td><td>2</td><td>2</td><td>1</td><td>7</td><td></td><td>39.0</td><td>41.0</td><td>60210960000000.0</td><td>10158.001</td><td>4.9790344</td><td>1.1571397871450376e-18</td><td>0.15181464</td><td>6.6240773e-19</td><td>P 20</td><td></td><td>3</td><td>2</td><td>6.131221865005628e-19</td></tr>\n",
       "<tr><td>5</td><td>1</td><td>2008.5254</td><td>2.669e-22</td><td>14.93</td><td>0.0436</td><td>0.043</td><td>1901.1309</td><td>0.67</td><td>-0.0035</td><td>1</td><td>0</td><td></td><td>P 31</td><td>4</td><td>7</td><td>6</td><td>6</td><td>2</td><td>3</td><td>5</td><td>8</td><td>2</td><td>2</td><td>1</td><td>1</td><td></td><td>61.0</td><td>63.0</td><td>60214080000000.0</td><td>5625.123</td><td>4.978777</td><td>1.065838020288651e-17</td><td>33.566086</td><td>1.464582e-16</td><td>P 31</td><td></td><td>1</td><td>0</td><td>6.131221865005628e-19</td></tr>\n",
       "<tr><td>5</td><td>1</td><td>2011.421</td><td>3.266e-25</td><td>30.05</td><td>0.0469</td><td>0.05</td><td>3378.9536</td><td>0.67</td><td>-0.0035</td><td>2</td><td>1</td><td></td><td>P 25</td><td>4</td><td>7</td><td>7</td><td>6</td><td>2</td><td>3</td><td>5</td><td>8</td><td>2</td><td>2</td><td>1</td><td>1</td><td></td><td>49.0</td><td>51.0</td><td>60300888000000.0</td><td>7755.5454</td><td>4.9716096</td><td>6.753345572999837e-18</td><td>3.1576395</td><td>1.3778761e-17</td><td>P 25</td><td></td><td>2</td><td>1</td><td>6.131221865005628e-19</td></tr>\n",
       "<tr><td>...</td><td>...</td><td>...</td><td>...</td><td>...</td><td>...</td><td>...</td><td>...</td><td>...</td><td>...</td><td>...</td><td>...</td><td>...</td><td>...</td><td>...</td><td>...</td><td>...</td><td>...</td><td>...</td><td>...</td><td>...</td><td>...</td><td>...</td><td>...</td><td>...</td><td>...</td><td>...</td><td>...</td><td>...</td><td>...</td><td>...</td><td>...</td><td>...</td><td>...</td><td>...</td><td>...</td><td>...</td><td>...</td><td>...</td><td>...</td></tr>\n",
       "<tr><td>5</td><td>1</td><td>2112.981</td><td>5.463e-24</td><td>68.19</td><td>0.0797</td><td>0.086</td><td>2147.081</td><td>0.76</td><td>-0.00301</td><td>2</td><td>1</td><td></td><td>P  1</td><td>4</td><td>7</td><td>7</td><td>6</td><td>6</td><td>3</td><td>5</td><td>8</td><td>2</td><td>2</td><td>1</td><td>1</td><td></td><td>1.0</td><td>3.0</td><td>63345575000000.0</td><td>6129.2783</td><td>4.7326503</td><td>4.575904551552323e-18</td><td>1.3508545</td><td>5.8833e-18</td><td>P  1</td><td></td><td>2</td><td>1</td><td>6.131221865005628e-19</td></tr>\n",
       "<tr><td>5</td><td>1</td><td>2115.629</td><td>3.87e-19</td><td>18.45</td><td>0.0612</td><td>0.069</td><td>107.6424</td><td>0.75</td><td>-0.00349</td><td>1</td><td>0</td><td></td><td>P  7</td><td>4</td><td>8</td><td>7</td><td>6</td><td>6</td><td>3</td><td>5</td><td>8</td><td>2</td><td>2</td><td>1</td><td>1</td><td></td><td>13.0</td><td>15.0</td><td>63424960000000.0</td><td>3198.791</td><td>4.726727</td><td>1.294147090360216e-17</td><td>238.4036</td><td>1.0381314e-15</td><td>P  7</td><td></td><td>1</td><td>0</td><td>6.131221865005628e-19</td></tr>\n",
       "<tr><td>5</td><td>1</td><td>2115.8137</td><td>1.351e-27</td><td>47.86</td><td>0.0612</td><td>0.069</td><td>4339.3276</td><td>0.75</td><td>-0.001783</td><td>3</td><td>2</td><td></td><td>R  6</td><td>4</td><td>6</td><td>7</td><td>6</td><td>6</td><td>5</td><td>5</td><td>8</td><td>2</td><td>2</td><td>1</td><td>7</td><td></td><td>15.0</td><td>13.0</td><td>63430500000000.0</td><td>9287.509</td><td>4.726314</td><td>1.6235931666088645e-18</td><td>0.20971942</td><td>9.13213e-19</td><td>R  6</td><td></td><td>3</td><td>2</td><td>6.131221865005628e-19</td></tr>\n",
       "<tr><td>5</td><td>1</td><td>2119.3047</td><td>1.361e-27</td><td>48.51</td><td>0.0599</td><td>0.067</td><td>4365.744</td><td>0.75</td><td>-0.00176</td><td>3</td><td>2</td><td></td><td>R  7</td><td>4</td><td>6</td><td>7</td><td>6</td><td>6</td><td>5</td><td>5</td><td>8</td><td>2</td><td>2</td><td>1</td><td>7</td><td></td><td>17.0</td><td>15.0</td><td>63535158000000.0</td><td>9330.537</td><td>4.7185287</td><td>1.5849029458963e-18</td><td>0.22788256</td><td>9.920747e-19</td><td>R  7</td><td></td><td>3</td><td>2</td><td>6.131221865005628e-19</td></tr>\n",
       "<tr><td>5</td><td>1</td><td>2119.681</td><td>3.789e-19</td><td>18.8</td><td>0.0629</td><td>0.07</td><td>80.7354</td><td>0.74</td><td>-0.00344</td><td>1</td><td>0</td><td></td><td>P  6</td><td>4</td><td>8</td><td>7</td><td>6</td><td>6</td><td>3</td><td>5</td><td>8</td><td>2</td><td>2</td><td>1</td><td>1</td><td></td><td>11.0</td><td>13.0</td><td>63546436000000.0</td><td>3165.908</td><td>4.7176914</td><td>1.2336390082190044e-17</td><td>215.25111</td><td>9.370624e-16</td><td>P  6</td><td></td><td>1</td><td>0</td><td>6.131221865005628e-19</td></tr>\n",
       "<tr><td>5</td><td>1</td><td>2120.5662</td><td>5.586e-24</td><td>22.98</td><td>0.0797</td><td>0.086</td><td>2143.271</td><td>0.76</td><td>-0.0021</td><td>2</td><td>1</td><td></td><td>R  0</td><td>4</td><td>7</td><td>7</td><td>6</td><td>6</td><td>3</td><td>5</td><td>8</td><td>2</td><td>2</td><td>1</td><td>1</td><td></td><td>3.0</td><td>1.0</td><td>63572978000000.0</td><td>6134.7095</td><td>4.7157216</td><td>4.5809664646698674e-18</td><td>1.3613836</td><td>5.926212e-18</td><td>R  0</td><td></td><td>2</td><td>1</td><td>6.131221865005628e-19</td></tr>\n",
       "<tr><td>5</td><td>1</td><td>2122.7595</td><td>1.324e-27</td><td>49.08</td><td>0.0589</td><td>0.066</td><td>4395.932</td><td>0.75</td><td>-0.00171</td><td>3</td><td>2</td><td></td><td>R  8</td><td>4</td><td>6</td><td>7</td><td>6</td><td>6</td><td>5</td><td>5</td><td>8</td><td>2</td><td>2</td><td>1</td><td>7</td><td></td><td>19.0</td><td>17.0</td><td>63638730000000.0</td><td>9378.942</td><td>4.7108493</td><td>1.7869636772678425e-18</td><td>0.2420037</td><td>1.0533017e-18</td><td>R  8</td><td></td><td>3</td><td>2</td><td>6.131221865005628e-19</td></tr>\n",
       "<tr><td>5</td><td>1</td><td>2123.6987</td><td>3.539e-19</td><td>19.26</td><td>0.065</td><td>0.073</td><td>57.6704</td><td>0.74</td><td>-0.00331</td><td>1</td><td>0</td><td></td><td>P  5</td><td>4</td><td>8</td><td>7</td><td>6</td><td>6</td><td>3</td><td>5</td><td>8</td><td>2</td><td>2</td><td>1</td><td>1</td><td></td><td>9.0</td><td>11.0</td><td>63666890000000.0</td><td>3138.5032</td><td>4.708766</td><td>1.2383172714408763e-17</td><td>187.55728</td><td>8.162735e-16</td><td>P  5</td><td></td><td>1</td><td>0</td><td>6.131221865005628e-19</td></tr>\n",
       "<tr><td>5</td><td>1</td><td>2124.306</td><td>1.099e-23</td><td>27.73</td><td>0.0748</td><td>0.082</td><td>2147.081</td><td>0.75</td><td>-0.0024</td><td>2</td><td>1</td><td></td><td>R  1</td><td>4</td><td>7</td><td>7</td><td>6</td><td>6</td><td>3</td><td>5</td><td>8</td><td>2</td><td>2</td><td>1</td><td>1</td><td></td><td>5.0</td><td>3.0</td><td>63685090000000.0</td><td>6145.572</td><td>4.70742</td><td>6.308671937991815e-18</td><td>2.7040036</td><td>1.176765e-17</td><td>R  1</td><td></td><td>2</td><td>1</td><td>6.131221865005628e-19</td></tr>\n",
       "<tr><td>5</td><td>1</td><td>2126.178</td><td>1.25e-27</td><td>49.59</td><td>0.058</td><td>0.064</td><td>4429.8896</td><td>0.75</td><td>-0.001685</td><td>3</td><td>2</td><td></td><td>R  9</td><td>4</td><td>6</td><td>7</td><td>6</td><td>6</td><td>5</td><td>5</td><td>8</td><td>2</td><td>2</td><td>1</td><td>7</td><td></td><td>21.0</td><td>19.0</td><td>63741215000000.0</td><td>9432.718</td><td>4.703275</td><td>1.5986305431408882e-18</td><td>0.25199378</td><td>1.0965118e-18</td><td>R  9</td><td></td><td>3</td><td>2</td><td>6.131221865005628e-19</td></tr>\n",
       "</table>"
      ],
      "text/plain": [
       "<Table length=91>\n",
       "molec_id local_iso_id     wn    ...    Vpp_HITRAN        lineflux_err    \n",
       " int32      int32      float32  ...     bytes15            float64       \n",
       "-------- ------------ --------- ... --------------- ---------------------\n",
       "       5            1 1997.4153 ...               1 6.131221865005628e-19\n",
       "       5            1 1998.7802 ...               0 6.131221865005628e-19\n",
       "       5            1 1999.5012 ...               2 6.131221865005628e-19\n",
       "       5            1  2002.115 ...               1 6.131221865005628e-19\n",
       "       5            1  2003.668 ...               0 6.131221865005628e-19\n",
       "       5            1 2003.9773 ...               2 6.131221865005628e-19\n",
       "       5            1 2006.7836 ...               1 6.131221865005628e-19\n",
       "       5            1 2008.4215 ...               2 6.131221865005628e-19\n",
       "       5            1 2008.5254 ...               0 6.131221865005628e-19\n",
       "       5            1  2011.421 ...               1 6.131221865005628e-19\n",
       "     ...          ...       ... ...             ...                   ...\n",
       "       5            1  2112.981 ...               1 6.131221865005628e-19\n",
       "       5            1  2115.629 ...               0 6.131221865005628e-19\n",
       "       5            1 2115.8137 ...               2 6.131221865005628e-19\n",
       "       5            1 2119.3047 ...               2 6.131221865005628e-19\n",
       "       5            1  2119.681 ...               0 6.131221865005628e-19\n",
       "       5            1 2120.5662 ...               1 6.131221865005628e-19\n",
       "       5            1 2122.7595 ...               2 6.131221865005628e-19\n",
       "       5            1 2123.6987 ...               0 6.131221865005628e-19\n",
       "       5            1  2124.306 ...               1 6.131221865005628e-19\n",
       "       5            1  2126.178 ...               2 6.131221865005628e-19"
      ]
     },
     "execution_count": 4,
     "metadata": {},
     "output_type": "execute_result"
    }
   ],
   "source": [
    "synthdata"
   ]
  },
  {
   "cell_type": "code",
   "execution_count": 95,
   "metadata": {},
   "outputs": [
    {
     "ename": "ValueError",
     "evalue": "invalid literal for int() with base 10: '<h'",
     "output_type": "error",
     "traceback": [
      "\u001b[0;31m---------------------------------------------------------------------------\u001b[0m",
      "\u001b[0;31mValueError\u001b[0m                                Traceback (most recent call last)",
      "\u001b[0;32m<ipython-input-95-31eb32cfcf81>\u001b[0m in \u001b[0;36m<module>\u001b[0;34m\u001b[0m\n\u001b[1;32m      1\u001b[0m spec3 = make_spec('CO', 10**params[0], params[1], sangle_to_area(10**params[2], params[3]),\\\n\u001b[0;32m----> 2\u001b[0;31m                   wmin=4.98, wmax=4.981, isotopologue_number = 1, d_pc=distance, vup=1)\n\u001b[0m\u001b[1;32m      3\u001b[0m \u001b[0;31m#spec4 = make_spec('NO', 10**params[0], params[1], sangle_to_area(10**params[2], params[3]),\u001b[0m\u001b[0;34m\u001b[0m\u001b[0;34m\u001b[0m\u001b[0;34m\u001b[0m\u001b[0m\n\u001b[1;32m      4\u001b[0m                  \u001b[0;31m#wmin=4.7, wmax=5.01, isotopologue_number = 2, d_pc=distance, vup=2)\u001b[0m\u001b[0;34m\u001b[0m\u001b[0;34m\u001b[0m\u001b[0;34m\u001b[0m\u001b[0m\n\u001b[1;32m      5\u001b[0m \u001b[0;34m\u001b[0m\u001b[0m\n",
      "\u001b[0;32m~/mypy/slabspec/slabspec.py\u001b[0m in \u001b[0;36mmake_spec\u001b[0;34m(molecule_name, n_col, temp, area, wmax, wmin, res, deltav, isotopologue_number, d_pc, aupmin, convol_fwhm, eupmax, vup, swmin)\u001b[0m\n\u001b[1;32m    214\u001b[0m \u001b[0;34m\u001b[0m\u001b[0m\n\u001b[1;32m    215\u001b[0m \u001b[0;31m#Read HITRAN data\u001b[0m\u001b[0;34m\u001b[0m\u001b[0;34m\u001b[0m\u001b[0;34m\u001b[0m\u001b[0m\n\u001b[0;32m--> 216\u001b[0;31m     \u001b[0mhitran_data\u001b[0m\u001b[0;34m=\u001b[0m\u001b[0mextract_hitran_data\u001b[0m\u001b[0;34m(\u001b[0m\u001b[0mmolecule_name\u001b[0m\u001b[0;34m,\u001b[0m\u001b[0mwmin\u001b[0m\u001b[0;34m,\u001b[0m\u001b[0mwmax\u001b[0m\u001b[0;34m,\u001b[0m\u001b[0misotopologue_number\u001b[0m\u001b[0;34m=\u001b[0m\u001b[0misotopologue_number\u001b[0m\u001b[0;34m,\u001b[0m \u001b[0meupmax\u001b[0m\u001b[0;34m=\u001b[0m\u001b[0meupmax\u001b[0m\u001b[0;34m,\u001b[0m \u001b[0maupmin\u001b[0m\u001b[0;34m=\u001b[0m\u001b[0maupmin\u001b[0m\u001b[0;34m,\u001b[0m \u001b[0mswmin\u001b[0m\u001b[0;34m=\u001b[0m\u001b[0mswmin\u001b[0m\u001b[0;34m)\u001b[0m\u001b[0;34m\u001b[0m\u001b[0;34m\u001b[0m\u001b[0m\n\u001b[0m\u001b[1;32m    217\u001b[0m \u001b[0;34m\u001b[0m\u001b[0m\n\u001b[1;32m    218\u001b[0m \u001b[0;31m#Select for desired vup if relevant\u001b[0m\u001b[0;34m\u001b[0m\u001b[0;34m\u001b[0m\u001b[0;34m\u001b[0m\u001b[0m\n",
      "\u001b[0;32m~/mypy/slabspec/helpers.py\u001b[0m in \u001b[0;36mextract_hitran_data\u001b[0;34m(molecule_name, wavemin, wavemax, isotopologue_number, eupmax, aupmin, swmin)\u001b[0m\n\u001b[1;32m    140\u001b[0m \u001b[0;34m\u001b[0m\u001b[0m\n\u001b[1;32m    141\u001b[0m     \u001b[0;31m#Extract hitran data using astroquery\u001b[0m\u001b[0;34m\u001b[0m\u001b[0;34m\u001b[0m\u001b[0;34m\u001b[0m\u001b[0m\n\u001b[0;32m--> 142\u001b[0;31m     \u001b[0mtbl\u001b[0m \u001b[0;34m=\u001b[0m \u001b[0mHitran\u001b[0m\u001b[0;34m.\u001b[0m\u001b[0mquery_lines\u001b[0m\u001b[0;34m(\u001b[0m\u001b[0mmolecule_number\u001b[0m\u001b[0;34m=\u001b[0m\u001b[0mM\u001b[0m\u001b[0;34m,\u001b[0m\u001b[0misotopologue_number\u001b[0m\u001b[0;34m=\u001b[0m\u001b[0misotopologue_number\u001b[0m\u001b[0;34m,\u001b[0m\u001b[0mmin_frequency\u001b[0m\u001b[0;34m=\u001b[0m\u001b[0mmin_wavenumber\u001b[0m \u001b[0;34m/\u001b[0m \u001b[0mun\u001b[0m\u001b[0;34m.\u001b[0m\u001b[0mcm\u001b[0m\u001b[0;34m,\u001b[0m\u001b[0mmax_frequency\u001b[0m\u001b[0;34m=\u001b[0m\u001b[0mmax_wavenumber\u001b[0m \u001b[0;34m/\u001b[0m \u001b[0mun\u001b[0m\u001b[0;34m.\u001b[0m\u001b[0mcm\u001b[0m\u001b[0;34m)\u001b[0m\u001b[0;34m\u001b[0m\u001b[0;34m\u001b[0m\u001b[0m\n\u001b[0m\u001b[1;32m    143\u001b[0m \u001b[0;34m\u001b[0m\u001b[0m\n\u001b[1;32m    144\u001b[0m     \u001b[0;31m#Do some desired bookkeeping, and add some helpful columns\u001b[0m\u001b[0;34m\u001b[0m\u001b[0;34m\u001b[0m\u001b[0;34m\u001b[0m\u001b[0m\n",
      "\u001b[0;32m~/anaconda3/lib/python3.6/site-packages/astroquery/utils/class_or_instance.py\u001b[0m in \u001b[0;36mf\u001b[0;34m(*args, **kwds)\u001b[0m\n\u001b[1;32m     23\u001b[0m         \u001b[0;32mdef\u001b[0m \u001b[0mf\u001b[0m\u001b[0;34m(\u001b[0m\u001b[0;34m*\u001b[0m\u001b[0margs\u001b[0m\u001b[0;34m,\u001b[0m \u001b[0;34m**\u001b[0m\u001b[0mkwds\u001b[0m\u001b[0;34m)\u001b[0m\u001b[0;34m:\u001b[0m\u001b[0;34m\u001b[0m\u001b[0;34m\u001b[0m\u001b[0m\n\u001b[1;32m     24\u001b[0m             \u001b[0;32mif\u001b[0m \u001b[0mobj\u001b[0m \u001b[0;32mis\u001b[0m \u001b[0;32mnot\u001b[0m \u001b[0;32mNone\u001b[0m\u001b[0;34m:\u001b[0m\u001b[0;34m\u001b[0m\u001b[0;34m\u001b[0m\u001b[0m\n\u001b[0;32m---> 25\u001b[0;31m                 \u001b[0;32mreturn\u001b[0m \u001b[0mself\u001b[0m\u001b[0;34m.\u001b[0m\u001b[0mfn\u001b[0m\u001b[0;34m(\u001b[0m\u001b[0mobj\u001b[0m\u001b[0;34m,\u001b[0m \u001b[0;34m*\u001b[0m\u001b[0margs\u001b[0m\u001b[0;34m,\u001b[0m \u001b[0;34m**\u001b[0m\u001b[0mkwds\u001b[0m\u001b[0;34m)\u001b[0m\u001b[0;34m\u001b[0m\u001b[0;34m\u001b[0m\u001b[0m\n\u001b[0m\u001b[1;32m     26\u001b[0m             \u001b[0;32melse\u001b[0m\u001b[0;34m:\u001b[0m\u001b[0;34m\u001b[0m\u001b[0;34m\u001b[0m\u001b[0m\n\u001b[1;32m     27\u001b[0m                 \u001b[0;32mreturn\u001b[0m \u001b[0mself\u001b[0m\u001b[0;34m.\u001b[0m\u001b[0mfn\u001b[0m\u001b[0;34m(\u001b[0m\u001b[0mcls\u001b[0m\u001b[0;34m,\u001b[0m \u001b[0;34m*\u001b[0m\u001b[0margs\u001b[0m\u001b[0;34m,\u001b[0m \u001b[0;34m**\u001b[0m\u001b[0mkwds\u001b[0m\u001b[0;34m)\u001b[0m\u001b[0;34m\u001b[0m\u001b[0;34m\u001b[0m\u001b[0m\n",
      "\u001b[0;32m~/anaconda3/lib/python3.6/site-packages/astroquery/utils/process_asyncs.py\u001b[0m in \u001b[0;36mnewmethod\u001b[0;34m(self, *args, **kwargs)\u001b[0m\n\u001b[1;32m     27\u001b[0m             \u001b[0;32mif\u001b[0m \u001b[0mkwargs\u001b[0m\u001b[0;34m.\u001b[0m\u001b[0mget\u001b[0m\u001b[0;34m(\u001b[0m\u001b[0;34m'get_query_payload'\u001b[0m\u001b[0;34m)\u001b[0m \u001b[0;32mor\u001b[0m \u001b[0mkwargs\u001b[0m\u001b[0;34m.\u001b[0m\u001b[0mget\u001b[0m\u001b[0;34m(\u001b[0m\u001b[0;34m'field_help'\u001b[0m\u001b[0;34m)\u001b[0m\u001b[0;34m:\u001b[0m\u001b[0;34m\u001b[0m\u001b[0;34m\u001b[0m\u001b[0m\n\u001b[1;32m     28\u001b[0m                 \u001b[0;32mreturn\u001b[0m \u001b[0mresponse\u001b[0m\u001b[0;34m\u001b[0m\u001b[0;34m\u001b[0m\u001b[0m\n\u001b[0;32m---> 29\u001b[0;31m             \u001b[0mresult\u001b[0m \u001b[0;34m=\u001b[0m \u001b[0mself\u001b[0m\u001b[0;34m.\u001b[0m\u001b[0m_parse_result\u001b[0m\u001b[0;34m(\u001b[0m\u001b[0mresponse\u001b[0m\u001b[0;34m,\u001b[0m \u001b[0mverbose\u001b[0m\u001b[0;34m=\u001b[0m\u001b[0mverbose\u001b[0m\u001b[0;34m)\u001b[0m\u001b[0;34m\u001b[0m\u001b[0;34m\u001b[0m\u001b[0m\n\u001b[0m\u001b[1;32m     30\u001b[0m             \u001b[0mself\u001b[0m\u001b[0;34m.\u001b[0m\u001b[0mtable\u001b[0m \u001b[0;34m=\u001b[0m \u001b[0mresult\u001b[0m\u001b[0;34m\u001b[0m\u001b[0;34m\u001b[0m\u001b[0m\n\u001b[1;32m     31\u001b[0m             \u001b[0;32mreturn\u001b[0m \u001b[0mresult\u001b[0m\u001b[0;34m\u001b[0m\u001b[0;34m\u001b[0m\u001b[0m\n",
      "\u001b[0;32m~/anaconda3/lib/python3.6/site-packages/astroquery/hitran/core.py\u001b[0m in \u001b[0;36m_parse_result\u001b[0;34m(self, response, verbose)\u001b[0m\n\u001b[1;32m    240\u001b[0m                     \u001b[0mformatter\u001b[0m \u001b[0;34m=\u001b[0m \u001b[0mentry\u001b[0m\u001b[0;34m[\u001b[0m\u001b[0;34m'formatter'\u001b[0m\u001b[0;34m]\u001b[0m\u001b[0;34m\u001b[0m\u001b[0;34m\u001b[0m\u001b[0m\n\u001b[1;32m    241\u001b[0m                     \u001b[0mlength\u001b[0m \u001b[0;34m=\u001b[0m \u001b[0mentry\u001b[0m\u001b[0;34m[\u001b[0m\u001b[0;34m'length'\u001b[0m\u001b[0;34m]\u001b[0m\u001b[0;34m\u001b[0m\u001b[0;34m\u001b[0m\u001b[0m\n\u001b[0;32m--> 242\u001b[0;31m                     \u001b[0mvalue\u001b[0m \u001b[0;34m=\u001b[0m \u001b[0mformatter\u001b[0m\u001b[0;34m(\u001b[0m\u001b[0mline\u001b[0m\u001b[0;34m[\u001b[0m\u001b[0mstart\u001b[0m\u001b[0;34m:\u001b[0m\u001b[0mstart\u001b[0m\u001b[0;34m+\u001b[0m\u001b[0mlength\u001b[0m\u001b[0;34m]\u001b[0m\u001b[0;34m)\u001b[0m\u001b[0;34m\u001b[0m\u001b[0;34m\u001b[0m\u001b[0m\n\u001b[0m\u001b[1;32m    243\u001b[0m                     \u001b[0mrow\u001b[0m\u001b[0;34m.\u001b[0m\u001b[0mappend\u001b[0m\u001b[0;34m(\u001b[0m\u001b[0mvalue\u001b[0m\u001b[0;34m)\u001b[0m\u001b[0;34m\u001b[0m\u001b[0;34m\u001b[0m\u001b[0m\n\u001b[1;32m    244\u001b[0m                     \u001b[0mstart\u001b[0m \u001b[0;34m=\u001b[0m \u001b[0mstart\u001b[0m \u001b[0;34m+\u001b[0m \u001b[0mlength\u001b[0m\u001b[0;34m\u001b[0m\u001b[0;34m\u001b[0m\u001b[0m\n",
      "\u001b[0;31mValueError\u001b[0m: invalid literal for int() with base 10: '<h'"
     ]
    }
   ],
   "source": [
    "spec3 = make_spec('CO', 10**params[0], params[1], sangle_to_area(10**params[2], params[3]),\\\n",
    "                  wmin=4.98, wmax=4.981, isotopologue_number = 1, d_pc=distance, vup=1)\n",
    "#spec4 = make_spec('NO', 10**params[0], params[1], sangle_to_area(10**params[2], params[3]), \n",
    "                 #wmin=4.7, wmax=5.01, isotopologue_number = 2, d_pc=distance, vup=2)\n",
    "\n",
    "\n",
    "test = spec3['lineparams'].to_pandas()#.append(spec4['lineparams'].to_pandas())\n",
    "\n",
    "test\n",
    "#np.unique(test['Vp'])"
   ]
  },
  {
   "cell_type": "markdown",
   "metadata": {},
   "source": [
    "### Run on minimum necessary arguments"
   ]
  },
  {
   "cell_type": "code",
   "execution_count": 2,
   "metadata": {},
   "outputs": [
    {
     "data": {
      "text/html": [
       "<i>Table length=9</i>\n",
       "<table id=\"table112191393352\" class=\"table-striped table-bordered table-condensed\">\n",
       "<thead><tr><th>molec_id</th><th>local_iso_id</th><th>Vp_HITRAN</th><th>Vpp_HITRAN</th><th>Qp_HITRAN</th><th>Qpp_HITRAN</th><th>Vup</th><th>Vlow</th><th>lineflux</th><th>lineflux_err</th></tr></thead>\n",
       "<thead><tr><th></th><th></th><th></th><th></th><th></th><th></th><th></th><th></th><th>W / m2</th><th>W / m2</th></tr></thead>\n",
       "<thead><tr><th>int32</th><th>int32</th><th>bytes15</th><th>bytes15</th><th>bytes15</th><th>bytes15</th><th>float64</th><th>float64</th><th>float64</th><th>float64</th></tr></thead>\n",
       "<tr><td>5</td><td>1</td><td>1</td><td>0</td><td></td><td>P  9</td><td>1.0</td><td>0.0</td><td>1.316994343354751e-16</td><td>7.825901269238242e-17</td></tr>\n",
       "<tr><td>5</td><td>1</td><td>1</td><td>0</td><td></td><td>P  8</td><td>1.0</td><td>0.0</td><td>1.0323862164516226e-16</td><td>3.4120979639822254e-17</td></tr>\n",
       "<tr><td>5</td><td>1</td><td>1</td><td>0</td><td></td><td>P  7</td><td>1.0</td><td>0.0</td><td>9.367185275616444e-17</td><td>2.4365401504170184e-17</td></tr>\n",
       "<tr><td>5</td><td>1</td><td>1</td><td>0</td><td></td><td>P  6</td><td>1.0</td><td>0.0</td><td>9.465862409709585e-17</td><td>1.7634261314132918e-17</td></tr>\n",
       "<tr><td>5</td><td>1</td><td>1</td><td>0</td><td></td><td>P  5</td><td>1.0</td><td>0.0</td><td>6.893828434186451e-17</td><td>2.3441294346321396e-17</td></tr>\n",
       "<tr><td>5</td><td>1</td><td>1</td><td>0</td><td></td><td>P  3</td><td>1.0</td><td>0.0</td><td>8.537210549683167e-17</td><td>1.2019031142384293e-17</td></tr>\n",
       "<tr><td>5</td><td>1</td><td>1</td><td>0</td><td></td><td>P  2</td><td>1.0</td><td>0.0</td><td>6.987527727948783e-17</td><td>2.101648574489899e-17</td></tr>\n",
       "<tr><td>5</td><td>1</td><td>1</td><td>0</td><td></td><td>R  0</td><td>1.0</td><td>0.0</td><td>2.743133787053756e-17</td><td>2.151658840947691e-17</td></tr>\n",
       "<tr><td>5</td><td>1</td><td>1</td><td>0</td><td></td><td>R  1</td><td>1.0</td><td>0.0</td><td>5.730189942164344e-17</td><td>1.7421218950298912e-17</td></tr>\n",
       "</table>"
      ],
      "text/plain": [
       "<Table length=9>\n",
       "molec_id local_iso_id ...        lineflux             lineflux_err     \n",
       "                      ...         W / m2                 W / m2        \n",
       " int32      int32     ...        float64                float64        \n",
       "-------- ------------ ... ---------------------- ----------------------\n",
       "       5            1 ...  1.316994343354751e-16  7.825901269238242e-17\n",
       "       5            1 ... 1.0323862164516226e-16 3.4120979639822254e-17\n",
       "       5            1 ...  9.367185275616444e-17 2.4365401504170184e-17\n",
       "       5            1 ...  9.465862409709585e-17 1.7634261314132918e-17\n",
       "       5            1 ...  6.893828434186451e-17 2.3441294346321396e-17\n",
       "       5            1 ...  8.537210549683167e-17 1.2019031142384293e-17\n",
       "       5            1 ...  6.987527727948783e-17  2.101648574489899e-17\n",
       "       5            1 ...  2.743133787053756e-17  2.151658840947691e-17\n",
       "       5            1 ...  5.730189942164344e-17 1.7421218950298912e-17"
      ]
     },
     "execution_count": 2,
     "metadata": {},
     "output_type": "execute_result"
    }
   ],
   "source": [
    "data=pickle.load(open('fztau_fluxes.p','rb'))\n",
    "\n",
    "del(data['wn'],data['a'],data['elower'],data['gup'], data['glow'],data['nu'],data['eup_k'])\n",
    "del(data['wave'],data['Qup'],data['Qlow'],data['linewidth'],data['linewidth_err'],data['v_dop_fit'],data['v_dop_fit_err'],data['continuum'],data['continuum_err'])\n",
    "\n",
    "\n",
    "data"
   ]
  },
  {
   "cell_type": "code",
   "execution_count": 3,
   "metadata": {},
   "outputs": [
    {
     "name": "stdout",
     "output_type": "stream",
     "text": [
      "78\n",
      "81\n",
      "84\n",
      "87\n",
      "90\n",
      "96\n",
      "100\n",
      "109\n",
      "112\n"
     ]
    }
   ],
   "source": [
    "fz_tau_samples = rot_mcmc(data, plot=False)"
   ]
  },
  {
   "cell_type": "markdown",
   "metadata": {},
   "source": [
    "## Maximum Likelihood best-fit"
   ]
  },
  {
   "cell_type": "code",
   "execution_count": 30,
   "metadata": {},
   "outputs": [
    {
     "name": "stdout",
     "output_type": "stream",
     "text": [
      "78\n",
      "81\n",
      "84\n",
      "87\n",
      "90\n",
      "96\n",
      "100\n",
      "109\n",
      "112\n",
      "[ True  True  True  True  True  True  True  True  True]\n",
      "[ True  True  True  True  True  True  True  True  True]\n"
     ]
    },
    {
     "ename": "AttributeError",
     "evalue": "'sf_run' object has no attribute 'Vp_HITRAN'",
     "output_type": "error",
     "traceback": [
      "\u001b[0;31m---------------------------------------------------------------------------\u001b[0m",
      "\u001b[0;31mAttributeError\u001b[0m                            Traceback (most recent call last)",
      "\u001b[0;32m<ipython-input-30-2b4d6f2cc22c>\u001b[0m in \u001b[0;36m<module>\u001b[0;34m\u001b[0m\n\u001b[1;32m      8\u001b[0m \u001b[0mprint\u001b[0m\u001b[0;34m(\u001b[0m\u001b[0mmyrun\u001b[0m\u001b[0;34m.\u001b[0m\u001b[0mmolec_id\u001b[0m\u001b[0;34m==\u001b[0m\u001b[0mdata\u001b[0m\u001b[0;34m[\u001b[0m\u001b[0;34m'molec_id'\u001b[0m\u001b[0;34m]\u001b[0m\u001b[0;34m)\u001b[0m\u001b[0;34m\u001b[0m\u001b[0;34m\u001b[0m\u001b[0m\n\u001b[1;32m      9\u001b[0m \u001b[0mprint\u001b[0m\u001b[0;34m(\u001b[0m\u001b[0mmyrun\u001b[0m\u001b[0;34m.\u001b[0m\u001b[0mlocal_iso_id\u001b[0m\u001b[0;34m==\u001b[0m\u001b[0mdata\u001b[0m\u001b[0;34m[\u001b[0m\u001b[0;34m'local_iso_id'\u001b[0m\u001b[0;34m]\u001b[0m\u001b[0;34m)\u001b[0m\u001b[0;34m\u001b[0m\u001b[0;34m\u001b[0m\u001b[0m\n\u001b[0;32m---> 10\u001b[0;31m \u001b[0mprint\u001b[0m\u001b[0;34m(\u001b[0m\u001b[0mmyrun\u001b[0m\u001b[0;34m.\u001b[0m\u001b[0mVp_HITRAN\u001b[0m\u001b[0;34m==\u001b[0m\u001b[0mdata\u001b[0m\u001b[0;34m[\u001b[0m\u001b[0;34m'Vp_HITRAN'\u001b[0m\u001b[0;34m]\u001b[0m\u001b[0;34m)\u001b[0m\u001b[0;34m\u001b[0m\u001b[0;34m\u001b[0m\u001b[0m\n\u001b[0m\u001b[1;32m     11\u001b[0m \u001b[0mprint\u001b[0m\u001b[0;34m(\u001b[0m\u001b[0mmyrun\u001b[0m\u001b[0;34m.\u001b[0m\u001b[0mVpp_HITRAN\u001b[0m\u001b[0;34m==\u001b[0m\u001b[0mdata\u001b[0m\u001b[0;34m[\u001b[0m\u001b[0;34m'Vpp_HITRAN'\u001b[0m\u001b[0;34m]\u001b[0m\u001b[0;34m)\u001b[0m\u001b[0;34m\u001b[0m\u001b[0;34m\u001b[0m\u001b[0m\n\u001b[1;32m     12\u001b[0m \u001b[0;34m\u001b[0m\u001b[0m\n",
      "\u001b[0;31mAttributeError\u001b[0m: 'sf_run' object has no attribute 'Vp_HITRAN'"
     ]
    }
   ],
   "source": [
    "lognguess = 22\n",
    "tguess = 750\n",
    "logomegaguess = -16.5\n",
    "\n",
    "\n",
    "myrun = sf_run(data, 4.648,5.018)\n",
    "\n",
    "print(myrun.molec_id==data['molec_id'])\n",
    "print(myrun.local_iso_id==data['local_iso_id'])\n",
    "print(myrun.Vp_HITRAN==data['Vp_HITRAN'])\n",
    "print(myrun.Vpp_HITRAN==data['Vpp_HITRAN'])\n",
    "print(myrun.)\n",
    "\n",
    "\n",
    "func = lambda *args: -loglikelihood(*args)\n",
    "\n",
    "thetaguess = np.array([lognguess, tguess, logomegaguess])\n",
    "\n",
    "MLE = minimize(func, thetaguess, args=(myrun.lineflux, myrun.lineflux_err, myrun))\n",
    "\n",
    "print(MLE)\n",
    "\n",
    "fig = corner.corner(fz_tau_samples, labels=[ r\"$\\log(n_\\mathrm{tot}$ $[m^{-2}])$\",r\"Temperature [K]\", \"$log(\\Omega)$\"], truths=MLE['x'],label_kwargs={\"fontsize\": 15})\n",
    "for ax in fig.get_axes():\n",
    "    ax.tick_params(axis='both', labelsize=12)\n",
    "    \n",
    "#fig.savefig('MLE.eps')"
   ]
  },
  {
   "cell_type": "code",
   "execution_count": null,
   "metadata": {},
   "outputs": [],
   "source": []
  },
  {
   "cell_type": "markdown",
   "metadata": {},
   "source": [
    "## Best fit parameters with error bars"
   ]
  },
  {
   "cell_type": "code",
   "execution_count": null,
   "metadata": {},
   "outputs": [],
   "source": [
    "from IPython.display import display, Math\n",
    "labels=[ r\"log(Ntot)\",r\"Temperature\", \"Omega\"]\n",
    "for i in range(3):\n",
    "    mcmc = np.percentile(postsamples[:, i], [16, 50, 84])\n",
    "    q = np.diff(mcmc)\n",
    "    txt = \"\\mathrm{{{3}}} = {0:.3f}_{{-{1:.3f}}}^{{{2:.3f}}}\"\n",
    "    txt = txt.format(mcmc[1], q[0], q[1], labels[i])\n",
    "    display(Math(txt))"
   ]
  },
  {
   "cell_type": "markdown",
   "metadata": {},
   "source": [
    "## Plot of best fit"
   ]
  },
  {
   "cell_type": "code",
   "execution_count": null,
   "metadata": {},
   "outputs": [],
   "source": [
    "bestfit=[np.percentile(postsamples[:,i],50) for i in range(3)]\n",
    "modelflux=compute_fluxes(myrun, bestfit[0],bestfit[1],10**(bestfit[2]))\n",
    "rotdiag=make_rotation_diagram(data,modelfluxes=modelflux)\n",
    "\n",
    "fig=plt.figure()\n",
    "ax1=fig.add_subplot(111)\n",
    "ax1.plot(rotdiag['x'],rotdiag['y'],'ro',label='Data')\n",
    "ax1.plot(rotdiag['x'],rotdiag['modely'],'bo',label='Model')\n",
    "ax1.plot(rotdiag['x'],rotdiag['modely'],'b',label='_None_')\n",
    "ax1.set_xlabel('Upper Level Energy [Kelvin]')\n",
    "ax1.legend()"
   ]
  },
  {
   "cell_type": "markdown",
   "metadata": {},
   "source": [
    "## Plot of some random samples"
   ]
  },
  {
   "cell_type": "code",
   "execution_count": 7,
   "metadata": {},
   "outputs": [
    {
     "ename": "NameError",
     "evalue": "name 'postsamples' is not defined",
     "output_type": "error",
     "traceback": [
      "\u001b[0;31m---------------------------------------------------------------------------\u001b[0m",
      "\u001b[0;31mNameError\u001b[0m                                 Traceback (most recent call last)",
      "\u001b[0;32m<ipython-input-7-9c05f9a05ce2>\u001b[0m in \u001b[0;36m<module>\u001b[0;34m\u001b[0m\n\u001b[1;32m      1\u001b[0m \u001b[0mfig\u001b[0m\u001b[0;34m=\u001b[0m\u001b[0mplt\u001b[0m\u001b[0;34m.\u001b[0m\u001b[0mfigure\u001b[0m\u001b[0;34m(\u001b[0m\u001b[0;34m)\u001b[0m\u001b[0;34m\u001b[0m\u001b[0;34m\u001b[0m\u001b[0m\n\u001b[1;32m      2\u001b[0m \u001b[0max1\u001b[0m\u001b[0;34m=\u001b[0m\u001b[0mfig\u001b[0m\u001b[0;34m.\u001b[0m\u001b[0madd_subplot\u001b[0m\u001b[0;34m(\u001b[0m\u001b[0;36m111\u001b[0m\u001b[0;34m)\u001b[0m\u001b[0;34m\u001b[0m\u001b[0;34m\u001b[0m\u001b[0m\n\u001b[0;32m----> 3\u001b[0;31m \u001b[0minds\u001b[0m \u001b[0;34m=\u001b[0m \u001b[0mnp\u001b[0m\u001b[0;34m.\u001b[0m\u001b[0mrandom\u001b[0m\u001b[0;34m.\u001b[0m\u001b[0mrandint\u001b[0m\u001b[0;34m(\u001b[0m\u001b[0mlen\u001b[0m\u001b[0;34m(\u001b[0m\u001b[0mpostsamples\u001b[0m\u001b[0;34m)\u001b[0m\u001b[0;34m,\u001b[0m \u001b[0msize\u001b[0m\u001b[0;34m=\u001b[0m\u001b[0;36m100\u001b[0m\u001b[0;34m)\u001b[0m\u001b[0;34m\u001b[0m\u001b[0;34m\u001b[0m\u001b[0m\n\u001b[0m\u001b[1;32m      4\u001b[0m \u001b[0;32mfor\u001b[0m \u001b[0mind\u001b[0m \u001b[0;32min\u001b[0m \u001b[0minds\u001b[0m\u001b[0;34m:\u001b[0m\u001b[0;34m\u001b[0m\u001b[0;34m\u001b[0m\u001b[0m\n\u001b[1;32m      5\u001b[0m     \u001b[0msampley\u001b[0m \u001b[0;34m=\u001b[0m \u001b[0mpostsamples\u001b[0m\u001b[0;34m[\u001b[0m\u001b[0mind\u001b[0m\u001b[0;34m]\u001b[0m\u001b[0;34m\u001b[0m\u001b[0;34m\u001b[0m\u001b[0m\n",
      "\u001b[0;31mNameError\u001b[0m: name 'postsamples' is not defined"
     ]
    },
    {
     "data": {
      "image/png": "[encoded data removed]",
      "text/plain": [
       "<Figure size 432x288 with 1 Axes>"
      ]
     },
     "metadata": {
      "needs_background": "light"
     },
     "output_type": "display_data"
    }
   ],
   "source": [
    "\n",
    "fig=plt.figure()\n",
    "ax1=fig.add_subplot(111)\n",
    "inds = np.random.randint(len(postsamples), size=100)\n",
    "for ind in inds:\n",
    "    sampley = postsamples[ind]\n",
    "    modelflux=compute_fluxes(myrun, sampley[0],sampley[1],10.**sampley[2])\n",
    "    rotdiag=make_rotation_diagram(data,modelfluxes=modelflux)\n",
    "    ax1.plot(rotdiag['x'],rotdiag['modely'],alpha=0.2)\n",
    "ax1.set_xlabel('Upper Level Energy [Kelvin]')\n",
    "\n",
    "bestfit=[np.percentile(postsamples[:,i],50) for i in range(3)]\n",
    "modelflux=compute_fluxes(myrun, bestfit[0],bestfit[1],10**(bestfit[2]))\n",
    "rotdiag=make_rotation_diagram(data,modelfluxes=modelflux)\n",
    "ax1.plot(rotdiag['x'],rotdiag['y'],'ro',label='Data')"
   ]
  },
  {
   "cell_type": "code",
   "execution_count": null,
   "metadata": {},
   "outputs": [],
   "source": []
  }
 ],
 "metadata": {
  "kernelspec": {
   "display_name": "Python 3",
   "language": "python",
   "name": "python3"
  },
  "language_info": {
   "codemirror_mode": {
    "name": "ipython",
    "version": 3
   },
   "file_extension": ".py",
   "mimetype": "text/x-python",
   "name": "python",
   "nbconvert_exporter": "python",
   "pygments_lexer": "ipython3",
   "version": "3.6.10"
  }
 },
 "nbformat": 4,
 "nbformat_minor": 2
}
